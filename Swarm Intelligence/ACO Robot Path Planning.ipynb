{
 "cells": [
  {
   "cell_type": "markdown",
   "metadata": {},
   "source": [
    "Imports\n",
    "===="
   ]
  },
  {
   "cell_type": "code",
   "execution_count": 44,
   "metadata": {},
   "outputs": [],
   "source": [
    "import numpy as np\n",
    "from numpy.random import rand, randint\n",
    "import matplotlib.pyplot as plt\n",
    "from matplotlib.collections import LineCollection\n",
    "import heapq\n",
    "from skimage.draw import line"
   ]
  },
  {
   "cell_type": "markdown",
   "metadata": {},
   "source": [
    "Functions\n",
    "===="
   ]
  },
  {
   "cell_type": "markdown",
   "metadata": {},
   "source": [
    "Grid\n",
    "---"
   ]
  },
  {
   "cell_type": "code",
   "execution_count": 45,
   "metadata": {},
   "outputs": [],
   "source": [
    "def can_connect(a,b,grid,occ):\n",
    "        connection = line(a[0], a[1], b[0], b[1])  \n",
    "        if np.any(grid[connection] == occ):\n",
    "            return False\n",
    "\n",
    "        return True\n",
    "\n",
    "def init_grid(nodes,eg,occ,n,ip,max_conn,can_connect,am=True):\n",
    "    graph=np.eye(n)*ip\n",
    "    graph[graph == 0] = np.inf\n",
    "\n",
    "    for i in range(n):\n",
    "        for j in range(n):\n",
    "            if (j!=i and can_connect(nodes[i,:],nodes[j,:],eg,occ)):\n",
    "                a = np.atleast_2d(nodes[i,:])\n",
    "                b = np.atleast_2d(nodes[j,:])\n",
    "                graph[i,j]=np.linalg.norm(a - b, axis=1) if am else ip\n",
    "\n",
    "\n",
    "        idx = np.argpartition(graph[i,:], max_conn)\n",
    "        graph[i,idx[max_conn:]] = np.inf\n",
    "\n",
    "    graph[graph==np.inf]=0\n",
    "    return graph"
   ]
  },
  {
   "cell_type": "markdown",
   "metadata": {},
   "source": [
    "Deterministic Optimal Algorithms\n",
    "---"
   ]
  },
  {
   "cell_type": "code",
   "execution_count": 65,
   "metadata": {},
   "outputs": [],
   "source": [
    "class PriorityQueue:\n",
    "    \"\"\"\n",
    "      Implements a priority queue data structure. Each inserted item\n",
    "      has a priority associated with it and the client is usually interested\n",
    "      in quick retrieval of the lowest-priority item in the queue. This\n",
    "      data structure allows O(1) access to the lowest-priority item.\n",
    "    \"\"\"\n",
    "    def  __init__(self):\n",
    "        self.heap = []\n",
    "        self.count = 0\n",
    "\n",
    "    def push(self, item, priority):\n",
    "        entry = (priority, self.count, item)\n",
    "        heapq.heappush(self.heap, entry)\n",
    "        self.count += 1\n",
    "\n",
    "    def pop(self):\n",
    "        (_, _, item) = heapq.heappop(self.heap)\n",
    "        return item\n",
    "\n",
    "    def isEmpty(self):\n",
    "        return len(self.heap) == 0\n",
    "\n",
    "    def update(self, item, priority):\n",
    "        # If item already in priority queue with higher priority, update its priority and rebuild the heap.\n",
    "        # If item already in priority queue with equal or lower priority, do nothing.\n",
    "        # If item not in priority queue, do the same thing as self.push.\n",
    "        for index, (p, c, i) in enumerate(self.heap):\n",
    "            if i == item:\n",
    "                if p <= priority:\n",
    "                    break\n",
    "                del self.heap[index]\n",
    "                self.heap.append((priority, c, item))\n",
    "                heapq.heapify(self.heap)\n",
    "                break\n",
    "        else:\n",
    "            self.push(item, priority)\n",
    "            \n",
    "            \n",
    "def dijkstra(graph, start, goal):\n",
    "    node=[start,0]\n",
    "\n",
    "    front=PriorityQueue()\n",
    "    front.push(node,0)\n",
    "\n",
    "    dead=[]\n",
    "\n",
    "    while front:\n",
    "        node=front.pop()\n",
    "        current=int(node[0])\n",
    "        n_cost=node[-1]\n",
    "\n",
    "        dead.append(current)\n",
    "\n",
    "        if current==goal:\n",
    "            cost=node[-1]\n",
    "            node.remove(cost)\n",
    "            path=node[::-1]\n",
    "            return np.asarray(path),cost\n",
    "        \n",
    "        childs=np.nonzero(graph[current,:])[0]\n",
    "        for child in childs:\n",
    "            child=int(child)\n",
    "            c_cost=graph[current,child] #child node cost [from parent node]\n",
    "            cost=n_cost+c_cost #cumlative path cost\n",
    "            child_node= [child] + node[:-1] + [cost]\n",
    "\n",
    "            if child not in dead:\n",
    "                front.update(child_node,cost)\n",
    "                \n",
    "\n",
    "def astar(graph, start, goal, heuristic=\"Euclidean\"):\n",
    "    node=[start,0]\n",
    "\n",
    "    front=PriorityQueue()\n",
    "    front.push(node,0)\n",
    "\n",
    "    dead=[]\n",
    "\n",
    "    while front:\n",
    "        node=front.pop()\n",
    "        current=int(node[0])\n",
    "        n_cost=node[-1]\n",
    "\n",
    "        dead.append(current)\n",
    "\n",
    "        if current==goal:\n",
    "            cost=node[-1]\n",
    "            node.remove(cost)\n",
    "            path=node[::-1]\n",
    "            return np.asarray(path),cost\n",
    "        \n",
    "        childs=np.nonzero(graph[current,:])[0]\n",
    "        for child in childs:\n",
    "            child=int(child)\n",
    "            c_cost=graph[current,child] #child node cost [from parent node]\n",
    "            cost=n_cost+c_cost #cumlative path cost, g(n), backward cost\n",
    "            a = np.atleast_2d(nodes[child,:])\n",
    "            b = np.atleast_2d(nodes[goal,:])\n",
    "            h= np.linalg.norm(a - b, axis=1) #estimated path cost, h(n), forward cost\n",
    "            f=cost+h #evaluation function, f(n)\n",
    "            child_node= [child] + node[:-1] + [cost]\n",
    "\n",
    "            if child not in dead:\n",
    "                front.update(child_node,f)\n",
    "                \n",
    "def dp_optimal_cost(G, c, I, costs, policy):\n",
    "    if I < 0:\n",
    "        return 0\n",
    "    N = len(G)\n",
    "    \n",
    "    # Cost already calculated\n",
    "    if costs[c,I] != np.inf:\n",
    "        return costs[c,I]\n",
    "        \n",
    "    for n in range(N):\n",
    "        # No path to this node\n",
    "        if G[c,n] == 0 or c == n:\n",
    "            continue\n",
    "        \n",
    "        # Recursion step\n",
    "        J = G[c,n] + dp_optimal_cost(G, n, I - 1, costs, policy)\n",
    "        \n",
    "        # Update minimum cost\n",
    "        if J > 0 and J < costs[c,I]:\n",
    "            costs[c,I] = J\n",
    "            policy[c] = n\n",
    "    \n",
    "    return costs[c,I]\n",
    "\n",
    "def dp(graph, start, goal):\n",
    "    N = len(graph)\n",
    "    costs = np.ones((N, N)) * np.inf\n",
    "    costs[goal,:] = 0\n",
    "    policy = np.ones((N, 1)) * np.nan\n",
    "    \n",
    "    for n in range(N):\n",
    "        costs[n,N-1]=dp_optimal_cost(graph, n, N - 1, costs, policy)\n",
    "        \n",
    "    path = []\n",
    "    break_condition = 0\n",
    "    path_found = True   \n",
    "    \n",
    "    idx = start\n",
    "    while idx != goal:\n",
    "        path.append(idx)\n",
    "        idx = int(policy[idx])\n",
    "        break_condition += 1\n",
    "        \n",
    "        if break_condition > N:\n",
    "            path_found = False\n",
    "            break\n",
    "        \n",
    "    if path_found:\n",
    "        path.append(goal)\n",
    "    else:\n",
    "        path = []\n",
    "\n",
    "    return path,costs[start,goal] "
   ]
  },
  {
   "cell_type": "markdown",
   "metadata": {},
   "source": [
    "ACO\n",
    "---"
   ]
  },
  {
   "cell_type": "code",
   "execution_count": 47,
   "metadata": {},
   "outputs": [],
   "source": [
    "def RW(pop,prob,r):\n",
    "    cum_prob=np.cumsum(prob)\n",
    "    idx=np.where(cum_prob>rand())[0][0]\n",
    "    return r[idx]\n",
    "\n",
    "def ant_sol(grid,nodes,alpha,beta,start,end,m,n,select):\n",
    "    s=[]; L=np.zeros(m);\n",
    "    for k in range(m):\n",
    "        i=start; sol=[];\n",
    "        while(i!=end):\n",
    "            a=nodes[i,:]\n",
    "            r=np.nonzero(grid[i,:])[0]\n",
    "            r=np.asarray([e for e in r if e!=i])\n",
    "            b=nodes[r,:]\n",
    "            eta=1/np.linalg.norm(a - b, axis=1); tao=grid[i,r];\n",
    "            p=((tao**alpha)*(eta**beta))/sum((tao**alpha)*(eta**beta))\n",
    "            p=p[np.nonzero(p)[0]]\n",
    "            idx=select(nodes[r,:],p,r)\n",
    "            sol.append((i,idx))\n",
    "            i=idx\n",
    "        L[k]=len(sol)\n",
    "        s.append(sol)\n",
    "    \n",
    "    return s,L\n",
    "\n",
    "def update_phermones(grid,s,L,Q,rho,m,n):\n",
    "    for i in range(n):\n",
    "        for j in range(n):\n",
    "            if (i!=j and grid[i,j]!=0):\n",
    "                delta=[Q/L[k] if ([item for item in s[k] if (item[0]==i and item[1]==j)]!=[]) else 0 for k in range(m)]\n",
    "                grid[i,j]=(1-rho)*grid[i,j]+sum(delta)\n",
    "    return grid\n",
    "\n",
    "def get_path(s,L,tao):\n",
    "    path_aco=s[np.argmin(L)]\n",
    "    path_aco=[i[0] for i in path_aco]+[path_aco[-1][-1]]\n",
    "    \n",
    "    cost=[tao[path_aco[i],path_aco[i+1]] for i in range(len(path_aco)-1)]  \n",
    "    cost_aco=sum(cost)\n",
    "    \n",
    "    return path_aco,cost_aco"
   ]
  },
  {
   "cell_type": "markdown",
   "metadata": {},
   "source": [
    "Parameters\n",
    "===="
   ]
  },
  {
   "cell_type": "code",
   "execution_count": 69,
   "metadata": {},
   "outputs": [],
   "source": [
    "np.random.seed(20)\n",
    "\n",
    "#Grid Parameters\n",
    "occ=100\n",
    "max_conn=10\n",
    "sz=10\n",
    "ip=0.1\n",
    "\n",
    "#Path\n",
    "start=8\n",
    "end=60\n",
    "\n",
    "#ACO\n",
    "rho=0.8\n",
    "alpha=1\n",
    "beta=1\n",
    "Q=1\n",
    "m=50\n",
    "T=20"
   ]
  },
  {
   "cell_type": "markdown",
   "metadata": {},
   "source": [
    "Implementation\n",
    "===="
   ]
  },
  {
   "cell_type": "markdown",
   "metadata": {},
   "source": [
    "Grid Construction\n",
    "---"
   ]
  },
  {
   "cell_type": "code",
   "execution_count": 70,
   "metadata": {},
   "outputs": [],
   "source": [
    "#Initialize Empty Grid\n",
    "eg=np.zeros((sz,sz))\n",
    "\n",
    "#Defining Obstacles\n",
    "eg[1,7:10]=occ; eg[2,7:9]=occ; eg[3,1:4]=occ;\n",
    "eg[3:8,5]=occ; eg[4,1]=occ; eg[7,1:4]=occ;\n",
    "eg[6:9,8]=occ; eg[6,7]=occ;\n",
    "\n",
    "#Defining Nodes (Discretization)\n",
    "idx=np.where(eg!=occ)\n",
    "n=idx[0].shape[0]\n",
    "nodes=[[idx[0][i],idx[1][i]] for i in range(len(idx[0]))]\n",
    "nodes=np.asarray(nodes)\n",
    "\n",
    "#Initialize Grid\n",
    "grid=init_grid(nodes,eg,occ,n,ip,max_conn,can_connect)"
   ]
  },
  {
   "cell_type": "markdown",
   "metadata": {},
   "source": [
    "Dijkstra\n",
    "---"
   ]
  },
  {
   "cell_type": "code",
   "execution_count": 50,
   "metadata": {},
   "outputs": [],
   "source": [
    "path_dij,cost_dij=dijkstra(grid,start,end)\n",
    "path=nodes[path_dij]"
   ]
  },
  {
   "cell_type": "markdown",
   "metadata": {},
   "source": [
    "A*\n",
    "---"
   ]
  },
  {
   "cell_type": "code",
   "execution_count": 61,
   "metadata": {},
   "outputs": [],
   "source": [
    "path_as,cost_as=astar(grid,start,end)\n",
    "path1=nodes[path_as]"
   ]
  },
  {
   "cell_type": "markdown",
   "metadata": {},
   "source": [
    "Dynamic Programming\n",
    "---"
   ]
  },
  {
   "cell_type": "code",
   "execution_count": 66,
   "metadata": {},
   "outputs": [],
   "source": [
    "path_dp,cost_dp=dp(grid,start,end)\n",
    "path3=nodes[path_dp]"
   ]
  },
  {
   "cell_type": "markdown",
   "metadata": {},
   "source": [
    "ACO\n",
    "---"
   ]
  },
  {
   "cell_type": "code",
   "execution_count": 71,
   "metadata": {},
   "outputs": [],
   "source": [
    "tao=grid\n",
    "for t in range(T):\n",
    "    s,L=ant_sol(tao,nodes,alpha,beta,start,end,m,n,RW)\n",
    "    tao=update_phermones(tao,s,L,Q,rho,m,n)\n",
    "\n",
    "path_aco,cost_aco=get_path(s,L,grid)\n",
    "path2=nodes[path_aco]"
   ]
  },
  {
   "cell_type": "markdown",
   "metadata": {},
   "source": [
    "Results\n",
    "===="
   ]
  },
  {
   "cell_type": "code",
   "execution_count": 72,
   "metadata": {},
   "outputs": [
    {
     "name": "stdout",
     "output_type": "stream",
     "text": [
      "Dijkstra Path =  [ 8  7 16 22 26 33 41 49 55 60]\n",
      "Dijkstra Path Total Cost =  11.899494936611667\n",
      "A* Path =  [ 8  7 16 22 26 33 41 49 55 60]\n",
      "A* Path Total Cost =  11.899494936611667\n",
      "DP Path =  [8, 7, 22, 26, 33, 41, 49, 55, 60]\n",
      "DP Path Total Cost =  11.899494936611665\n",
      "ACO Path =  [8, 7, 6, 16, 15, 22, 21, 26, 33, 32, 41, 49, 48, 55, 60]\n",
      "ACO Path Total Cost =  24.6059263564315\n"
     ]
    }
   ],
   "source": [
    "print(\"Dijkstra Path = \", path_dij)\n",
    "print(\"Dijkstra Path Total Cost = \", cost_dij)\n",
    "print(\"A* Path = \", path_as)\n",
    "print(\"A* Path Total Cost = \", cost_as)\n",
    "print(\"DP Path = \", path_dp)\n",
    "print(\"DP Path Total Cost = \", cost_dp)\n",
    "print(\"ACO Path = \", path_aco)\n",
    "print(\"ACO Path Total Cost = \", cost_aco)"
   ]
  },
  {
   "cell_type": "markdown",
   "metadata": {},
   "source": [
    "Plots\n",
    "==="
   ]
  },
  {
   "cell_type": "code",
   "execution_count": 73,
   "metadata": {},
   "outputs": [
    {
     "data": {
      "image/png": "[encoded data removed]",
      "text/plain": [
       "<Figure size 432x432 with 1 Axes>"
      ]
     },
     "metadata": {
      "needs_background": "light"
     },
     "output_type": "display_data"
    }
   ],
   "source": [
    "plt.figure(figsize=(6,6))\n",
    "\n",
    "#Grid\n",
    "plt.imshow(eg.T,cmap=plt.cm.Greys)\n",
    "ax=plt.gca()\n",
    "ax.grid(color='k', linestyle='-', linewidth=2)\n",
    "ax.set_xticks(np.arange(-0.5, 10, 1))\n",
    "ax.set_yticks(np.arange(-0.5, 10, 1))\n",
    "ax.set_xticklabels(np.arange(0,10, 1))\n",
    "ax.set_yticklabels(np.arange(0, 10, 1))\n",
    "\n",
    "#Nodes\n",
    "plt.scatter(idx[0],idx[1])\n",
    "for node, coord in enumerate(nodes):\n",
    "    plt.text(coord[0], coord[1], str(node))\n",
    "    \n",
    "#Connections\n",
    "source, sink = np.nonzero(grid)\n",
    "source=nodes[source,:]\n",
    "sink=nodes[sink,:]\n",
    "lc = LineCollection(np.stack((source, sink), axis=1),linewidths=[1], colors=[(0, 0.75, 1, 1)])\n",
    "ax.add_collection(lc)\n",
    "\n",
    "#Paths\n",
    "ax.plot(path[:, 0], path[:, 1], 'yo-', linewidth=4,label='Dijkstra')\n",
    "ax.plot(path1[:, 0], path1[:, 1], 'go-', linewidth=3,label='A*')\n",
    "ax.plot(path3[:, 0], path3[:, 1], 'ro-', linewidth=2,label='DP')\n",
    "ax.plot(path2[:, 0], path2[:, 1], 'mo-', linewidth=1,label='ACO')\n",
    "\n",
    "\n",
    "plt.legend()\n",
    "plt.show()"
   ]
  }
 ],
 "metadata": {
  "kernelspec": {
   "display_name": "Python 3",
   "language": "python",
   "name": "python3"
  },
  "language_info": {
   "codemirror_mode": {
    "name": "ipython",
    "version": 3
   },
   "file_extension": ".py",
   "mimetype": "text/x-python",
   "name": "python",
   "nbconvert_exporter": "python",
   "pygments_lexer": "ipython3",
   "version": "3.7.6"
  }
 },
 "nbformat": 4,
 "nbformat_minor": 2
}