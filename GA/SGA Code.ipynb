{
 "cells": [
  {
   "cell_type": "markdown",
   "metadata": {},
   "source": [
    "Imports\n",
    "========"
   ]
  },
  {
   "cell_type": "code",
   "execution_count": 41,
   "metadata": {},
   "outputs": [],
   "source": [
    "import numpy as np\n",
    "from numpy import sin, cos, sqrt, pi, exp\n",
    "from numpy.random import rand, randint\n",
    "from matplotlib import pyplot as plt"
   ]
  },
  {
   "cell_type": "markdown",
   "metadata": {},
   "source": [
    "Functions\n",
    "========"
   ]
  },
  {
   "cell_type": "markdown",
   "metadata": {},
   "source": [
    "Representation and Fitness functions\n",
    "-----------------"
   ]
  },
  {
   "cell_type": "code",
   "execution_count": 42,
   "metadata": {},
   "outputs": [],
   "source": [
    "def gamma(dec,x,y,Ls,dim): \n",
    "    \"\"\" maps decimal representation of an input binary string to a real value in the range [x,y] \"\"\"\n",
    "    return x+((y-x)/(2**Ls[dim]-1))*dec\n",
    "\n",
    "def decode(a,Ls):\n",
    "    \"\"\"decodes binary representation to integer/real number\"\"\"\n",
    "    sz=np.size(a,0) #no. of individuals\n",
    "    n=len(Ls) #no. of dimensions\n",
    "    mat=np.zeros((sz,n))\n",
    "    L=np.cumsum(Ls)\n",
    "    for dim in range(n):\n",
    "        a_trim=a[:,:L[dim]] if dim==0 else a[:,L[dim-1]:L[dim]]\n",
    "        col=a_trim.dot(1 << np.arange(a_trim.shape[-1] - 1, -1, -1)) #converting each variable/dimension seperately\n",
    "#         col=gamma(col,-1,62,Ls,dim) #uncomment if mapping to real values is desired\n",
    "        mat[:,dim]=col\n",
    "    return mat\n",
    "\n",
    "def fit(pop,Ls,f): # TODO: handle -ve values for f(x)\n",
    "    \"\"\"returns pop fitnesses (i.e. fitness vector)\"\"\"\n",
    "    n=np.size(pop,0) #no. of individuals\n",
    "    mat=decode(pop,Ls)\n",
    "    pop_obj=np.zeros(n) #objective function values for population individuals\n",
    "    for ir in range(n):\n",
    "        obj,_=f(mat[ir,:])\n",
    "        pop_obj[ir]=obj\n",
    "    pop_fit=1/(pop_obj+1)   #add 1 to denom. to avoid divsion by zero\n",
    "    _,opt_obj=f(mat[0,:])\n",
    "    \n",
    "    return pop_fit, opt_obj"
   ]
  },
  {
   "cell_type": "markdown",
   "metadata": {},
   "source": [
    "Selection Operators\n",
    "-----------"
   ]
  },
  {
   "cell_type": "code",
   "execution_count": 43,
   "metadata": {},
   "outputs": [],
   "source": [
    "def select_RW(pop,fitness,scaled=False): #SUS?\n",
    "    \"\"\"RW selection with an option to sigma scale the fitness\"\"\"\n",
    "    fitness=sigma_scale(fitness) if scaled else fitness\n",
    "    prob=fitness/np.sum(fitness)\n",
    "    cum_prob=np.cumsum(prob)\n",
    "    idx=[np.where(cum_prob>rand())[0][0] for i in range(np.size(pop,0))]\n",
    "    return pop[idx,:]\n",
    "\n",
    "def sigma_scale(fitness): #sigma scaling\n",
    "    c=2.; mf=np.mean(fitness); sigma=np.std(fitness);\n",
    "    fitness_scaled=np.zeros(len(fitness))\n",
    "    for i,f in enumerate(fitness):\n",
    "        fitness_scaled[i]=np.max([f-(mf-c*sigma),0])\n",
    "    return fitness_scaled\n",
    "\n",
    "def select_LR(pop,fitness,s=1.5):\n",
    "    \"\"\"linear ranking-based selection\"\"\"\n",
    "    mu=np.size(pop,0)\n",
    "    idx=np.argsort(fitness)\n",
    "    pops=pop[idx,:] #sorted pop according to fitness\n",
    "    prob=[((2-s)/mu)+((2*i*(s-1))/(mu*(mu-1))) for i in range(mu)]\n",
    "    cum_prob=np.cumsum(prob)\n",
    "    idx=[np.where(cum_prob>rand())[0][0] for i in range(mu)]\n",
    "    return pops[idx,:]\n",
    "\n",
    "def select_tour(pop,fitness,k=2):\n",
    "    \"\"\"tournament selection with replacement\"\"\"\n",
    "    champ=np.zeros_like(pop) #tournament champions\n",
    "    for i in range(np.size(pop,0)):\n",
    "        idx=randint(low=0,high=np.size(pop,0),size=k)\n",
    "        best_f=np.max(fitness[idx])\n",
    "        champ[i,:]=pop[np.where(fitness==best_f)[0][0],:]\n",
    "    return champ\n",
    "\n",
    "def select_elite(): #2 if even 1 if odd \n",
    "    #parents that get copied to next gen. w/o xover or mutation (survivor selection method)\n",
    "    #TODO\n",
    "    pass"
   ]
  },
  {
   "cell_type": "markdown",
   "metadata": {},
   "source": [
    "Variation Operators\n",
    "--------------"
   ]
  },
  {
   "cell_type": "code",
   "execution_count": 44,
   "metadata": {},
   "outputs": [],
   "source": [
    "def xover_1pt(pop,pc):\n",
    "    \"\"\"1 point xover by swapping tails after crossover point\"\"\"\n",
    "    sz=pop.shape; n=int(np.round(sz[0]/2)); L=sz[1];\n",
    "    prob=rand(n)\n",
    "    cop=(np.round(rand(n)*(L-1))+1).astype(int) #random crossover points generation\n",
    "    for i in range(n):\n",
    "        if prob[i]<pc:\n",
    "            p1=pop[2*i,:] #parent 1\n",
    "            p2=pop[0,:] if i==n-1 else pop[2*i+1,:] #parent 2\n",
    "            t=p1[cop[i]:]\n",
    "            p1[cop[i]:]=p2[cop[i]:]\n",
    "            p2[cop[i]:]=t\n",
    "            pop[2*i,:]=p1\n",
    "            if i==n-1:\n",
    "                pop[0,:]=p2\n",
    "            else:\n",
    "                pop[2*i+1,:]=p2\n",
    "    return pop\n",
    "\n",
    "def xover_npt(pop,pc,n=2):\n",
    "    sz=pop.shape; m=int(np.round(sz[0]/2)); L=sz[1];\n",
    "    prob=rand(m)\n",
    "    cop=[0]*n\n",
    "    for i in range(m):\n",
    "        if prob[i]<pc:\n",
    "            while not(len(cop)==len(set(cop))):\n",
    "                cop=(np.round(rand(n)*(L-1))+1).astype(int)\n",
    "                cop=cop.tolist()\n",
    "            cop=np.sort(np.asarray(cop))\n",
    "            p1=pop[2*i,:] #parent 1\n",
    "            p2=pop[0,:] if i==n-1 else pop[2*i+1,:] #parent 2\n",
    "            for j in range(len(cop)):\n",
    "                if (len(cop)%2!=0 and j==len(cop)-1):\n",
    "                    t=p1[cop[j]:]\n",
    "                    p1[cop[j]:]=p2[cop[j]:]\n",
    "                    p2[cop[j]:]=t\n",
    "                elif ((len(cop)%2==0 and j%2==0) or (len(cop)%2!=0 and j!=len(cop)-1)):\n",
    "                    t=p1[cop[j]:cop[j+1]]\n",
    "                    p1[cop[j]:cop[j+1]]=p2[cop[j]:cop[j+1]]\n",
    "                    p2[cop[j]:cop[j+1]]=t\n",
    "            pop[2*i,:]=p1\n",
    "            if i==m-1:\n",
    "                pop[0,:]=p2\n",
    "            else:\n",
    "                pop[2*i+1,:]=p2\n",
    "            \n",
    "    return pop\n",
    "\n",
    "def xover_uniform(pop,pc):\n",
    "    sz=pop.shape; n=int(np.round(sz[0]/2)); L=sz[1];\n",
    "    prob=rand(n)\n",
    "    for i in range(n):\n",
    "        if prob[i]<pc:            \n",
    "            p1=pop[2*i,:] #parent 1\n",
    "            p2=pop[0,:] if i==n-1 else pop[2*i+1,:] #parent 2\n",
    "            c1=np.zeros(len(p1))\n",
    "            c2=np.zeros(len(p2))\n",
    "            coin=(np.round(rand(L))).astype(int)\n",
    "            for j in range(L):\n",
    "                c1[j]=p1[j] if coin[j]==1 else p2[j]\n",
    "            c1=c1.astype(int)\n",
    "            c2=~c1+2\n",
    "            pop[2*i,:]=c1\n",
    "            pop[2*i+1,:]=c2\n",
    "            \n",
    "    return pop\n",
    "    \n",
    "def mutate(pop,pm):\n",
    "    \"\"\"bit-flipping mutation\"\"\"\n",
    "    sz=pop.shape\n",
    "    prob=rand(sz[0],sz[0])\n",
    "    idx=np.unravel_index(np.where(prob<pm)[0],sz)\n",
    "    r=idx[0]; c=idx[1];\n",
    "    for i in range(len(r)):\n",
    "        pop[r[i],c[i]]=~pop[r[i],c[i]]+2\n",
    "    \n",
    "    return pop"
   ]
  },
  {
   "cell_type": "markdown",
   "metadata": {},
   "source": [
    "Objective Functions (Test Functions)\n",
    "========================="
   ]
  },
  {
   "cell_type": "code",
   "execution_count": 45,
   "metadata": {},
   "outputs": [],
   "source": [
    "def fa(var):#ackley (nD)\n",
    "    #f(0)=0\n",
    "    #-30<=x_j<=30 (var domain)\n",
    "    obj=-20*exp(-0.2*sqrt((1/len(var))*np.sum(var**2)))-exp((1/len(var))*np.sum(cos(2*pi*var)))+20+exp(1)\n",
    "    opt=[0]*len(var)+[0]\n",
    "    return obj, opt\n",
    "\n",
    "def fg(var): #griewangk (nD)\n",
    "    #f(0)=0\n",
    "    #-600<=x_j<=600 (var domain)\n",
    "    obj=(1/4000)*np.sum(var**2)-np.prod(cos(var/sqrt(np.ones(len(var))*range(len(var))+1))+1)\n",
    "    opt=[0]*len(var)+[0]\n",
    "    return obj, opt\n",
    "    \n",
    "def f1(var): #1D\n",
    "    #f(0)=1\n",
    "    obj=np.abs(var)+cos(var) #evaluation of objective function\n",
    "    opt=[0,1] #(value of function's variables at the optimum, known optimal objective function value)\n",
    "    return obj, opt\n",
    "\n",
    "def f3(var): #nD\n",
    "    #f(0)=0\n",
    "    obj=np.sum(var**2)\n",
    "    opt=[0]*len(var)+[0]\n",
    "    return obj, opt\n",
    "\n",
    "def f10(var): #nD\n",
    "    #f(0)=0\n",
    "    obj=10*len(var)+np.sum(var**2-10*cos(2*pi*var))\n",
    "    opt=[0]*len(var)+[0]\n",
    "    return obj, opt\n",
    "\n",
    "def f12(var): #2D\n",
    "    #f(1.897,1.006) = -0.5231\n",
    "    #f(0)=0 #corrected\n",
    "    obj=0.5+((sin(sqrt(var[0]**2+var[1]**2))**2-0.5)/(1+0.1*(var[0]**2+var[1]**2)))\n",
    "    opt=[0]*len(var)+[0]\n",
    "#     opt=[1.897,1.006,-0.5231]\n",
    "    return obj, opt"
   ]
  },
  {
   "cell_type": "markdown",
   "metadata": {},
   "source": [
    "Initialization of Parameters\n",
    "============="
   ]
  },
  {
   "cell_type": "markdown",
   "metadata": {},
   "source": [
    "Problem-independant\n",
    "--------"
   ]
  },
  {
   "cell_type": "code",
   "execution_count": 46,
   "metadata": {},
   "outputs": [],
   "source": [
    "# np.random.seed(5) #fix only for development\n",
    "pop_size=10 #no. of individuals #rows\n",
    "pc=0.75 #xover probability\n",
    "pm=0.05 #mutation probability\n",
    "T=500 #max no. of gens.\n",
    "t=0 #gen. number\n",
    "best_fit=[]; worst_fit=[]; mean_fit=[];"
   ]
  },
  {
   "cell_type": "markdown",
   "metadata": {},
   "source": [
    "Problem-dependant\n",
    "--------"
   ]
  },
  {
   "cell_type": "code",
   "execution_count": 47,
   "metadata": {},
   "outputs": [],
   "source": [
    "Ls=[5,5] #length of each variable in the chromosome\n",
    "ff=f3 #choice of the objective/test function\n",
    "L=np.sum(Ls) #total length of chromosome #columns\n",
    "select=select_LR #parent selection operator\n",
    "xover=xover_npt #crossover operator"
   ]
  },
  {
   "cell_type": "markdown",
   "metadata": {},
   "source": [
    "Implementation\n",
    "========"
   ]
  },
  {
   "cell_type": "code",
   "execution_count": 48,
   "metadata": {},
   "outputs": [],
   "source": [
    "pop=randint(2, size=(pop_size,L)); offspring=pop; #population is constructed/Initialized and used as a matrix\n",
    "fitness,opt_obj=fit(pop,Ls,ff); opt_fit=1/(opt_obj[-1]+1); #adding 1 to denominator to avoid division by zero\n",
    "best_fit.append(np.max(fitness)); worst_fit.append(np.min(fitness)); mean_fit.append(np.mean(fitness));\n",
    "best_off=float('nan'); fit_prev=-np.inf;\n",
    "\n",
    "while not(np.any(fitness==opt_fit) or t==T):\n",
    "    parents=select(offspring,fitness)\n",
    "    offspring=xover(parents,pc)\n",
    "    offspring=mutate(offspring,pm)\n",
    "    fitness,_=fit(offspring,Ls,ff)\n",
    "    \n",
    "    if np.max(fitness)>fit_prev:\n",
    "        best_off=decode(offspring,Ls)[np.argmax(fitness),:] \n",
    "        fit_prev=np.max(fitness)\n",
    "    best_fit.append(np.max(fitness)); worst_fit.append(np.min(fitness)); mean_fit.append(np.mean(fitness));\n",
    "    t+=1"
   ]
  },
  {
   "cell_type": "markdown",
   "metadata": {},
   "source": [
    "Results\n",
    "====="
   ]
  },
  {
   "cell_type": "code",
   "execution_count": 49,
   "metadata": {},
   "outputs": [
    {
     "name": "stdout",
     "output_type": "stream",
     "text": [
      "total number of generations elapsed =  26 \n",
      "\n",
      "optimal objective function value =  0 \n",
      "\n",
      "best found objective function value =  0.0 \n",
      "\n",
      "variables values at true optimum = [0, 0] \n",
      "\n",
      "variables values at found optimum = [0. 0.] \n",
      "\n"
     ]
    }
   ],
   "source": [
    "np.set_printoptions(suppress=True)\n",
    "\n",
    "if np.any(fitness==opt_fit):\n",
    "    opt_sol=decode(offspring,Ls)[np.where(fitness==opt_fit)[0][0],:]\n",
    "    est_fit=opt_fit\n",
    "else:\n",
    "    opt_sol=best_off\n",
    "    est_fit=fit_prev\n",
    "\n",
    "best_obj,_=ff(opt_sol)\n",
    "\n",
    "print(\"total number of generations elapsed = \",t, '\\n')\n",
    "\n",
    "# print(\"final fitness vector = \", fitness,'\\n')\n",
    "# print(\"optimal fitness value = \", opt_fit,'\\n')\n",
    "# print(\"best found fitness value = \",est_fit ,'\\n')\n",
    "\n",
    "print(\"optimal objective function value = \", opt_obj[-1],'\\n')\n",
    "print(\"best found objective function value = \",best_obj ,'\\n')\n",
    "\n",
    "print(\"variables values at true optimum =\",opt_obj[0:-1] ,'\\n')\n",
    "print(\"variables values at found optimum =\",opt_sol ,'\\n')"
   ]
  },
  {
   "cell_type": "markdown",
   "metadata": {},
   "source": [
    "Plots\n",
    "====="
   ]
  },
  {
   "cell_type": "code",
   "execution_count": 50,
   "metadata": {},
   "outputs": [
    {
     "data": {
      "image/png": "[encoded data removed]",
      "text/plain": [
       "<Figure size 576x432 with 1 Axes>"
      ]
     },
     "metadata": {
      "needs_background": "light"
     },
     "output_type": "display_data"
    }
   ],
   "source": [
    "plt.figure(figsize=(8,6))\n",
    "plt.plot(best_fit,label='best fitness')\n",
    "plt.plot(mean_fit,label='mean fitness')\n",
    "plt.plot(worst_fit,label='worst fitness')\n",
    "plt.legend()\n",
    "plt.xlabel(\"number of generations\")\n",
    "plt.ylabel(\"fitness value\")\n",
    "plt.show()"
   ]
  },
  {
   "cell_type": "markdown",
   "metadata": {},
   "source": [
    "Comments/Observations:\n",
    "================\n",
    "\n",
    "1. As expected, SGA can handle unimodal functions (f1 nad f3) very well, giving always the optimal solution.\n",
    "2. Since SGA is not equipped to search for and find global optimum of multimodal functions (fa, fg, f10 & f12), finding the global optimum for those fuctions becomes dependant on \"luck\" (i.e. the seed value of the random number generator which determines essentially most events: population initialization, mutations, crossovers ..etc, and the type of the operators used). For most runs, the SGA settles at local optima. Other factors can also contribute to increasing the probability of reaching that optimum, e.g. increasing population size and maximum allowed number of generations. Additionally, as the number of the objective function's variables increase, the required number of generations or individuals might increase as a result in order to increase the chances of reaching the global optimum.\n",
    "3. When using FPS methods (e.g. RW and SUS), there is a chance that premature converence happens.\n",
    "4. Objective functions that will output negative values will cause probelems with RW selction (since it means negative fitness values because fitess is essetiall defined as 1/objective_function). There are ways of course to modify the RW to help it deal with such a situation, like adding a large positive constant number to the fitness values or by using exponential mapping.\n",
    "5. In general, the objective functions are real-valued with real-valued minima and variables at the minima. However, mapping the binary strings to real values in the decoding part can be problematic. The reason is that the length of the binary representation for each variable and the chosen lower and upper bounds greatly affect the solution (as it affects the mapping resolution and which values can be represented). If these values were not chosen such that the objective function's variable values at its optimum could be obtained by the mapping, then the alorithm will never be able to find it. Since here all such values are integers, it's faster and better to omit this mapping and deal with the problem as if it were integer-valued.\n",
    "6. When using different selection and crossover operators than the basic ones (i.e. RW selection and 1 point xover), the optimal value is found much faster (in a shorter number of generations)."
   ]
  },
  {
   "cell_type": "markdown",
   "metadata": {},
   "source": [
    "References:\n",
    "=======\n",
    "1. Lecture Slides\n",
    "2. https://www.obitko.com/tutorials/genetic-algorithms/index.php\n",
    "3. Introduction to evolutionary computing\n",
    "4. Hermawanto, D. (2013) Genetic Algorithm For Solving Simple Mathematical Equality Problem. arXiv preprint arXiv:1308.4675"
   ]
  }
 ],
 "metadata": {
  "kernelspec": {
   "display_name": "Python 3",
   "language": "python",
   "name": "python3"
  },
  "language_info": {
   "codemirror_mode": {
    "name": "ipython",
    "version": 3
   },
   "file_extension": ".py",
   "mimetype": "text/x-python",
   "name": "python",
   "nbconvert_exporter": "python",
   "pygments_lexer": "ipython3",
   "version": "3.7.6"
  }
 },
 "nbformat": 4,
 "nbformat_minor": 2
}