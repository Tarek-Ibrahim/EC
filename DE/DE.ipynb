{
 "cells": [
  {
   "cell_type": "markdown",
   "metadata": {},
   "source": [
    "Imports\n",
    "========"
   ]
  },
  {
   "cell_type": "code",
   "execution_count": 120,
   "metadata": {},
   "outputs": [],
   "source": [
    "import numpy as np\n",
    "import random\n",
    "from numpy import sin, cos, sqrt, pi, exp\n",
    "from numpy.random import rand, randint, uniform\n",
    "from matplotlib import pyplot as plt"
   ]
  },
  {
   "cell_type": "markdown",
   "metadata": {},
   "source": [
    "Objective Functions (Test Functions)\n",
    "========================="
   ]
  },
  {
   "cell_type": "code",
   "execution_count": 121,
   "metadata": {},
   "outputs": [],
   "source": [
    "def fa(var):#ackley (nD)\n",
    "    #f(0)=0\n",
    "    #-30<=x_j<=30 (var domain)\n",
    "    obj=-20*exp(-0.2*sqrt((1/len(var))*np.sum(var**2)))-exp((1/len(var))*np.sum(cos(2*pi*var)))+20+exp(1)\n",
    "    opt=[0]*len(var)+[0]\n",
    "    return obj, opt\n",
    "\n",
    "def f3(var): #nD\n",
    "    #f(0)=0\n",
    "    obj=np.sum(var**2)\n",
    "    opt=[0]*len(var)+[0]\n",
    "    return obj, opt\n",
    "\n",
    "def f10(var): #nD\n",
    "    #f(0)=0\n",
    "    obj=10*len(var)+np.sum(var**2-10*cos(2*pi*var))\n",
    "    opt=[0]*len(var)+[0]\n",
    "    return obj, opt\n",
    "\n",
    "def f12(var): #2D\n",
    "    #f(1.897,1.006) = -0.5231\n",
    "    #f(0)=0 #corrected\n",
    "    obj=0.5+((sin(sqrt(var[0]**2+var[1]**2))**2-0.5)/(1+0.1*(var[0]**2+var[1]**2)))\n",
    "    opt=[0]*len(var)+[0]\n",
    "#     opt=[1.897,1.006,-0.5231]\n",
    "    return obj, opt"
   ]
  },
  {
   "cell_type": "markdown",
   "metadata": {},
   "source": [
    "Functions\n",
    "========"
   ]
  },
  {
   "cell_type": "code",
   "execution_count": 122,
   "metadata": {},
   "outputs": [],
   "source": [
    "def fit(pop,f):\n",
    "    pop_obj=np.asarray([f(pop[i,:])[0] for i in range(pop.shape[0])])\n",
    "    pop_fit=1/(pop_obj+1)\n",
    "    _,opt_obj=f(pop[0,:])\n",
    "    return pop_fit, opt_obj\n",
    "\n",
    "def mutate(pop,F):\n",
    "    r=np.asarray([random.sample(list(range(0,i))+list(range(i+1,pop.shape[0])),3) for i in range(pop.shape[0])])\n",
    "    pop_mu=np.asarray([pop[r[i,0],:]+F*(pop[r[i,1],:]-pop[r[i,2],:]) for i in range(pop.shape[0])])\n",
    "    return pop_mu\n",
    "    \n",
    "def xover(pop,pop_mu,pc):\n",
    "    k=randint(pop.shape[1]+1,size=pop.shape[0])\n",
    "    U=rand(pop.shape[0],pop.shape[1])\n",
    "    pop_T=np.asarray([[pop_mu[i,j] if (U[i,j]<pc or j==k[i]) else pop[i,j] for j in range(pop.shape[1])] for i in range(pop.shape[0])])\n",
    "    return pop_T\n",
    "\n",
    "def select(pop,pop_T,f):\n",
    "    fit_pop,_=fit(pop,f); fit_pop_T,_=fit(pop_T,f);\n",
    "    pop_new=np.asarray([pop[i,:] if fit_pop[i]>fit_pop_T[i] else pop_T[i,:] for i in range(pop.shape[0])])\n",
    "    return pop_new"
   ]
  },
  {
   "cell_type": "markdown",
   "metadata": {},
   "source": [
    "Initialization of Parameters\n",
    "============="
   ]
  },
  {
   "cell_type": "code",
   "execution_count": 123,
   "metadata": {},
   "outputs": [],
   "source": [
    "# np.random.seed(5) #fix only for development\n",
    "n=2 #number of variables\n",
    "pop_size=10*n*2 #no. of individuals >=10*n\n",
    "pc=0.3 #xover probability\n",
    "F=0.7 #mutation scale factor\n",
    "T=500 #max no. of gens.\n",
    "t=0 #gen. number\n",
    "b=[-30,31] #initial pop bounds\n",
    "ff=f12 #choice of the objective/test function\n",
    "best_fit=[]; worst_fit=[]; mean_fit=[];"
   ]
  },
  {
   "cell_type": "markdown",
   "metadata": {},
   "source": [
    "Implementation\n",
    "========"
   ]
  },
  {
   "cell_type": "code",
   "execution_count": 124,
   "metadata": {},
   "outputs": [],
   "source": [
    "pop=uniform(b[0],b[1],(pop_size,n));\n",
    "fitness,opt_obj=fit(pop,ff); opt_fit=1/(opt_obj[-1]+1);\n",
    "best_fit.append(np.max(fitness)); worst_fit.append(np.min(fitness)); mean_fit.append(np.mean(fitness));\n",
    "\n",
    "while not(np.any(fitness==opt_fit) or t==T):\n",
    "    pop_mu=mutate(pop,F) #mutation matrix\n",
    "    pop_T=xover(pop,pop_mu,pc) #trial matrix\n",
    "    pop=select(pop,pop_T,ff)\n",
    "    fitness,_=fit(pop,ff)\n",
    "    best_fit.append(np.max(fitness)); worst_fit.append(np.min(fitness)); mean_fit.append(np.mean(fitness));\n",
    "    t+=1"
   ]
  },
  {
   "cell_type": "markdown",
   "metadata": {},
   "source": [
    "Results\n",
    "====="
   ]
  },
  {
   "cell_type": "code",
   "execution_count": 125,
   "metadata": {},
   "outputs": [
    {
     "name": "stdout",
     "output_type": "stream",
     "text": [
      "total number of generations elapsed =  184 \n",
      "\n",
      "optimal objective function value =  0 \n",
      "\n",
      "best found objective function value =  0.0 \n",
      "\n",
      "variables values at true optimum = [0, 0] \n",
      "\n",
      "variables values at found optimum = [0. 0.] \n",
      "\n"
     ]
    }
   ],
   "source": [
    "np.set_printoptions(suppress=True)\n",
    "\n",
    "if np.any(fitness==opt_fit):\n",
    "    opt_sol=pop[np.where(fitness==opt_fit)[0][0],:]\n",
    "    est_fit=opt_fit\n",
    "else:\n",
    "    opt_sol=pop[np.argmax(fitness),:]\n",
    "    est_fit=np.max(fitness)\n",
    "\n",
    "best_obj,_=ff(opt_sol)\n",
    "\n",
    "print(\"total number of generations elapsed = \",t, '\\n')\n",
    "\n",
    "# print(\"final fitness vector = \", fitness,'\\n')\n",
    "# print(\"optimal fitness value = \", opt_fit,'\\n')\n",
    "# print(\"best found fitness value = \",est_fit ,'\\n')\n",
    "\n",
    "print(\"optimal objective function value = \", opt_obj[-1],'\\n')\n",
    "print(\"best found objective function value = \",best_obj ,'\\n')\n",
    "\n",
    "print(\"variables values at true optimum =\",opt_obj[0:-1] ,'\\n')\n",
    "print(\"variables values at found optimum =\",opt_sol ,'\\n')"
   ]
  },
  {
   "cell_type": "markdown",
   "metadata": {},
   "source": [
    "Plots\n",
    "====="
   ]
  },
  {
   "cell_type": "code",
   "execution_count": 126,
   "metadata": {},
   "outputs": [
    {
     "data": {
      "image/png": "[encoded data removed]",
      "text/plain": [
       "<Figure size 576x432 with 1 Axes>"
      ]
     },
     "metadata": {
      "needs_background": "light"
     },
     "output_type": "display_data"
    }
   ],
   "source": [
    "plt.figure(figsize=(8,6))\n",
    "plt.plot(best_fit,label='best fitness')\n",
    "plt.plot(mean_fit,label='mean fitness')\n",
    "plt.plot(worst_fit,label='worst fitness')\n",
    "plt.legend()\n",
    "plt.xlabel(\"number of generations\")\n",
    "plt.ylabel(\"fitness value\")\n",
    "plt.show()"
   ]
  },
  {
   "cell_type": "markdown",
   "metadata": {},
   "source": [
    "Comments/Observations:\n",
    "================\n",
    "\n",
    "1. Not only is the DE algorithm easier to code, understand, debug and apply than SGA, but also sigificantly more efficient and better performing. It is noticed that convergence to the global optimal solution happens quickly even for multimodal functions and even with multiple variables. The fitness curves are also observed to be much nicer/smoother (meaning the 'jumpy' behavior noticed in SGA dissapears here) and also that the worst, mean and best fitness converge to the same value with time/generations. DE is Awesome! :)\n",
    "2. It's noticed that the algorithm usually converges to the optimal solution way before it actually stops. This is because of flating point percision issues and it is probaby a good practice to modify the termination condition to exit after an epoch of no improvements."
   ]
  },
  {
   "cell_type": "markdown",
   "metadata": {},
   "source": [
    "References:\n",
    "=======\n",
    "1. Lecture Slides\n",
    "2. Introduction to evolutionary computing"
   ]
  }
 ],
 "metadata": {
  "kernelspec": {
   "display_name": "Python 3",
   "language": "python",
   "name": "python3"
  },
  "language_info": {
   "codemirror_mode": {
    "name": "ipython",
    "version": 3
   },
   "file_extension": ".py",
   "mimetype": "text/x-python",
   "name": "python",
   "nbconvert_exporter": "python",
   "pygments_lexer": "ipython3",
   "version": "3.7.6"
  }
 },
 "nbformat": 4,
 "nbformat_minor": 2
}
